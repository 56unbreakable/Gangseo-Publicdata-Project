{
 "cells": [
  {
   "cell_type": "code",
   "execution_count": 4,
   "metadata": {},
   "outputs": [],
   "source": [
    "# 데이터 로드\n",
    "import pandas as pd\n",
    "\n",
    "cctv_data = pd.read_csv(\"../data/서울특별시강서구안심이CCTV설치현황.csv\",encoding=\"cp949\")"
   ]
  },
  {
   "cell_type": "code",
   "execution_count": 5,
   "metadata": {},
   "outputs": [],
   "source": [
    "# 0번째 행 삭제\n",
    "cctv_data = cctv_data[1:]\n",
    "\n",
    "# 위도와 경도만 저장\n",
    "cctv_data_ll = cctv_data[[\"위도\",\"경도\"]]\n",
    "\n",
    "# 주소, 용도만 저장\n",
    "cctv_data_au = cctv_data[[\"안심 주소\",\"CCTV 용도\"]]"
   ]
  },
  {
   "cell_type": "code",
   "execution_count": 6,
   "metadata": {},
   "outputs": [
    {
     "data": {
      "text/html": [
       "<div>\n",
       "<style scoped>\n",
       "    .dataframe tbody tr th:only-of-type {\n",
       "        vertical-align: middle;\n",
       "    }\n",
       "\n",
       "    .dataframe tbody tr th {\n",
       "        vertical-align: top;\n",
       "    }\n",
       "\n",
       "    .dataframe thead th {\n",
       "        text-align: right;\n",
       "    }\n",
       "</style>\n",
       "<table border=\"1\" class=\"dataframe\">\n",
       "  <thead>\n",
       "    <tr style=\"text-align: right;\">\n",
       "      <th></th>\n",
       "      <th>위도</th>\n",
       "      <th>경도</th>\n",
       "    </tr>\n",
       "  </thead>\n",
       "  <tbody>\n",
       "    <tr>\n",
       "      <th>1</th>\n",
       "      <td>37.528107</td>\n",
       "      <td>126.84598</td>\n",
       "    </tr>\n",
       "    <tr>\n",
       "      <th>2</th>\n",
       "      <td>37.52947231</td>\n",
       "      <td>126.8496212</td>\n",
       "    </tr>\n",
       "    <tr>\n",
       "      <th>3</th>\n",
       "      <td>37.52999848</td>\n",
       "      <td>126.8534461</td>\n",
       "    </tr>\n",
       "    <tr>\n",
       "      <th>4</th>\n",
       "      <td>37.530087</td>\n",
       "      <td>126.856926</td>\n",
       "    </tr>\n",
       "    <tr>\n",
       "      <th>5</th>\n",
       "      <td>37.53159999</td>\n",
       "      <td>126.8387572</td>\n",
       "    </tr>\n",
       "    <tr>\n",
       "      <th>...</th>\n",
       "      <td>...</td>\n",
       "      <td>...</td>\n",
       "    </tr>\n",
       "    <tr>\n",
       "      <th>2417</th>\n",
       "      <td>37.579197</td>\n",
       "      <td>126.81064</td>\n",
       "    </tr>\n",
       "    <tr>\n",
       "      <th>2418</th>\n",
       "      <td>37.579197</td>\n",
       "      <td>126.81064</td>\n",
       "    </tr>\n",
       "    <tr>\n",
       "      <th>2419</th>\n",
       "      <td>37.579613</td>\n",
       "      <td>126.81066</td>\n",
       "    </tr>\n",
       "    <tr>\n",
       "      <th>2420</th>\n",
       "      <td>37.579613</td>\n",
       "      <td>126.81066</td>\n",
       "    </tr>\n",
       "    <tr>\n",
       "      <th>2421</th>\n",
       "      <td>37.579613</td>\n",
       "      <td>126.81066</td>\n",
       "    </tr>\n",
       "  </tbody>\n",
       "</table>\n",
       "<p>2421 rows × 2 columns</p>\n",
       "</div>"
      ],
      "text/plain": [
       "               위도           경도\n",
       "1       37.528107    126.84598\n",
       "2     37.52947231  126.8496212\n",
       "3     37.52999848  126.8534461\n",
       "4       37.530087   126.856926\n",
       "5     37.53159999  126.8387572\n",
       "...           ...          ...\n",
       "2417    37.579197    126.81064\n",
       "2418    37.579197    126.81064\n",
       "2419    37.579613    126.81066\n",
       "2420    37.579613    126.81066\n",
       "2421    37.579613    126.81066\n",
       "\n",
       "[2421 rows x 2 columns]"
      ]
     },
     "execution_count": 6,
     "metadata": {},
     "output_type": "execute_result"
    }
   ],
   "source": [
    "# 위도와 경도만 저장한 데이터프레임\n",
    "cctv_data_ll"
   ]
  },
  {
   "cell_type": "code",
   "execution_count": 7,
   "metadata": {},
   "outputs": [
    {
     "data": {
      "text/html": [
       "<div>\n",
       "<style scoped>\n",
       "    .dataframe tbody tr th:only-of-type {\n",
       "        vertical-align: middle;\n",
       "    }\n",
       "\n",
       "    .dataframe tbody tr th {\n",
       "        vertical-align: top;\n",
       "    }\n",
       "\n",
       "    .dataframe thead th {\n",
       "        text-align: right;\n",
       "    }\n",
       "</style>\n",
       "<table border=\"1\" class=\"dataframe\">\n",
       "  <thead>\n",
       "    <tr style=\"text-align: right;\">\n",
       "      <th></th>\n",
       "      <th>안심 주소</th>\n",
       "      <th>CCTV 용도</th>\n",
       "    </tr>\n",
       "  </thead>\n",
       "  <tbody>\n",
       "    <tr>\n",
       "      <th>1</th>\n",
       "      <td>P253001(A5002)_화곡1동 908-9(호돌이 공원)</td>\n",
       "      <td>도심공원</td>\n",
       "    </tr>\n",
       "    <tr>\n",
       "      <th>2</th>\n",
       "      <td>P303005_화곡8동 892-17(모태어린이공원)</td>\n",
       "      <td>도심공원</td>\n",
       "    </tr>\n",
       "    <tr>\n",
       "      <th>3</th>\n",
       "      <td>P263002_화곡2동 883-3 하마터어린이공원</td>\n",
       "      <td>도심공원</td>\n",
       "    </tr>\n",
       "    <tr>\n",
       "      <th>4</th>\n",
       "      <td>P263001_화곡2동 845-19 뜸부기어린이공원</td>\n",
       "      <td>도심공원</td>\n",
       "    </tr>\n",
       "    <tr>\n",
       "      <th>5</th>\n",
       "      <td>P253005_화곡1동 355-12(필마어린이공원)</td>\n",
       "      <td>도심공원</td>\n",
       "    </tr>\n",
       "    <tr>\n",
       "      <th>...</th>\n",
       "      <td>...</td>\n",
       "      <td>...</td>\n",
       "    </tr>\n",
       "    <tr>\n",
       "      <th>2417</th>\n",
       "      <td>S222006(B1006)_방화3동 816 방화6단지 602동 앞(삼정초등학교)(보...</td>\n",
       "      <td>어린이안전</td>\n",
       "    </tr>\n",
       "    <tr>\n",
       "      <th>2418</th>\n",
       "      <td>S222006(B1006)_방화3동 816 방화6단지 602동 앞(삼정초등학교)(보...</td>\n",
       "      <td>어린이안전</td>\n",
       "    </tr>\n",
       "    <tr>\n",
       "      <th>2419</th>\n",
       "      <td>S222001(A1064)_(스쿨존)방화3동 798(삼정초등학교)</td>\n",
       "      <td>어린이안전</td>\n",
       "    </tr>\n",
       "    <tr>\n",
       "      <th>2420</th>\n",
       "      <td>S222001(A1064)_(스쿨존)방화3동 798(삼정초등학교)(보조1)정문방향</td>\n",
       "      <td>어린이안전</td>\n",
       "    </tr>\n",
       "    <tr>\n",
       "      <th>2421</th>\n",
       "      <td>S222001(A1064)_(스쿨존)방화3동 798(삼정초등학교)(보조2)도시개발6...</td>\n",
       "      <td>어린이안전</td>\n",
       "    </tr>\n",
       "  </tbody>\n",
       "</table>\n",
       "<p>2421 rows × 2 columns</p>\n",
       "</div>"
      ],
      "text/plain": [
       "                                                  안심 주소 CCTV 용도\n",
       "1                     P253001(A5002)_화곡1동 908-9(호돌이 공원)    도심공원\n",
       "2                          P303005_화곡8동 892-17(모태어린이공원)    도심공원\n",
       "3                           P263002_화곡2동 883-3 하마터어린이공원    도심공원\n",
       "4                          P263001_화곡2동 845-19 뜸부기어린이공원    도심공원\n",
       "5                          P253005_화곡1동 355-12(필마어린이공원)    도심공원\n",
       "...                                                 ...     ...\n",
       "2417  S222006(B1006)_방화3동 816 방화6단지 602동 앞(삼정초등학교)(보...   어린이안전\n",
       "2418  S222006(B1006)_방화3동 816 방화6단지 602동 앞(삼정초등학교)(보...   어린이안전\n",
       "2419               S222001(A1064)_(스쿨존)방화3동 798(삼정초등학교)   어린이안전\n",
       "2420      S222001(A1064)_(스쿨존)방화3동 798(삼정초등학교)(보조1)정문방향   어린이안전\n",
       "2421  S222001(A1064)_(스쿨존)방화3동 798(삼정초등학교)(보조2)도시개발6...   어린이안전\n",
       "\n",
       "[2421 rows x 2 columns]"
      ]
     },
     "execution_count": 7,
     "metadata": {},
     "output_type": "execute_result"
    }
   ],
   "source": [
    "# 주소와 용도만 저장한 데이터프레임\n",
    "cctv_data_au"
   ]
  },
  {
   "cell_type": "code",
   "execution_count": 8,
   "metadata": {},
   "outputs": [
    {
     "data": {
      "text/html": [
       "<div>\n",
       "<style scoped>\n",
       "    .dataframe tbody tr th:only-of-type {\n",
       "        vertical-align: middle;\n",
       "    }\n",
       "\n",
       "    .dataframe tbody tr th {\n",
       "        vertical-align: top;\n",
       "    }\n",
       "\n",
       "    .dataframe thead th {\n",
       "        text-align: right;\n",
       "    }\n",
       "</style>\n",
       "<table border=\"1\" class=\"dataframe\">\n",
       "  <thead>\n",
       "    <tr style=\"text-align: right;\">\n",
       "      <th></th>\n",
       "      <th>자치구</th>\n",
       "      <th>안심 주소</th>\n",
       "      <th>CCTV 용도</th>\n",
       "      <th>위도</th>\n",
       "      <th>경도</th>\n",
       "      <th>CCTV 수량</th>\n",
       "      <th>수정 일시</th>\n",
       "    </tr>\n",
       "  </thead>\n",
       "  <tbody>\n",
       "    <tr>\n",
       "      <th>1</th>\n",
       "      <td>강서구</td>\n",
       "      <td>P253001(A5002)_화곡1동 908-9(호돌이 공원)</td>\n",
       "      <td>도심공원</td>\n",
       "      <td>37.528107</td>\n",
       "      <td>126.84598</td>\n",
       "      <td>1</td>\n",
       "      <td>2021-01-29</td>\n",
       "    </tr>\n",
       "    <tr>\n",
       "      <th>2</th>\n",
       "      <td>강서구</td>\n",
       "      <td>P303005_화곡8동 892-17(모태어린이공원)</td>\n",
       "      <td>도심공원</td>\n",
       "      <td>37.52947231</td>\n",
       "      <td>126.8496212</td>\n",
       "      <td>1</td>\n",
       "      <td>2021-01-29</td>\n",
       "    </tr>\n",
       "    <tr>\n",
       "      <th>3</th>\n",
       "      <td>강서구</td>\n",
       "      <td>P263002_화곡2동 883-3 하마터어린이공원</td>\n",
       "      <td>도심공원</td>\n",
       "      <td>37.52999848</td>\n",
       "      <td>126.8534461</td>\n",
       "      <td>1</td>\n",
       "      <td>2021-01-29</td>\n",
       "    </tr>\n",
       "    <tr>\n",
       "      <th>4</th>\n",
       "      <td>강서구</td>\n",
       "      <td>P263001_화곡2동 845-19 뜸부기어린이공원</td>\n",
       "      <td>도심공원</td>\n",
       "      <td>37.530087</td>\n",
       "      <td>126.856926</td>\n",
       "      <td>1</td>\n",
       "      <td>2021-01-29</td>\n",
       "    </tr>\n",
       "    <tr>\n",
       "      <th>5</th>\n",
       "      <td>강서구</td>\n",
       "      <td>P253005_화곡1동 355-12(필마어린이공원)</td>\n",
       "      <td>도심공원</td>\n",
       "      <td>37.53159999</td>\n",
       "      <td>126.8387572</td>\n",
       "      <td>1</td>\n",
       "      <td>2021-01-29</td>\n",
       "    </tr>\n",
       "    <tr>\n",
       "      <th>...</th>\n",
       "      <td>...</td>\n",
       "      <td>...</td>\n",
       "      <td>...</td>\n",
       "      <td>...</td>\n",
       "      <td>...</td>\n",
       "      <td>...</td>\n",
       "      <td>...</td>\n",
       "    </tr>\n",
       "    <tr>\n",
       "      <th>2417</th>\n",
       "      <td>강서구</td>\n",
       "      <td>S222006(B1006)_방화3동 816 방화6단지 602동 앞(삼정초등학교)(보...</td>\n",
       "      <td>어린이안전</td>\n",
       "      <td>37.579197</td>\n",
       "      <td>126.81064</td>\n",
       "      <td>1</td>\n",
       "      <td>2021-01-29</td>\n",
       "    </tr>\n",
       "    <tr>\n",
       "      <th>2418</th>\n",
       "      <td>강서구</td>\n",
       "      <td>S222006(B1006)_방화3동 816 방화6단지 602동 앞(삼정초등학교)(보...</td>\n",
       "      <td>어린이안전</td>\n",
       "      <td>37.579197</td>\n",
       "      <td>126.81064</td>\n",
       "      <td>1</td>\n",
       "      <td>2021-01-29</td>\n",
       "    </tr>\n",
       "    <tr>\n",
       "      <th>2419</th>\n",
       "      <td>강서구</td>\n",
       "      <td>S222001(A1064)_(스쿨존)방화3동 798(삼정초등학교)</td>\n",
       "      <td>어린이안전</td>\n",
       "      <td>37.579613</td>\n",
       "      <td>126.81066</td>\n",
       "      <td>1</td>\n",
       "      <td>2021-01-29</td>\n",
       "    </tr>\n",
       "    <tr>\n",
       "      <th>2420</th>\n",
       "      <td>강서구</td>\n",
       "      <td>S222001(A1064)_(스쿨존)방화3동 798(삼정초등학교)(보조1)정문방향</td>\n",
       "      <td>어린이안전</td>\n",
       "      <td>37.579613</td>\n",
       "      <td>126.81066</td>\n",
       "      <td>1</td>\n",
       "      <td>2021-01-29</td>\n",
       "    </tr>\n",
       "    <tr>\n",
       "      <th>2421</th>\n",
       "      <td>강서구</td>\n",
       "      <td>S222001(A1064)_(스쿨존)방화3동 798(삼정초등학교)(보조2)도시개발6...</td>\n",
       "      <td>어린이안전</td>\n",
       "      <td>37.579613</td>\n",
       "      <td>126.81066</td>\n",
       "      <td>1</td>\n",
       "      <td>2021-01-29</td>\n",
       "    </tr>\n",
       "  </tbody>\n",
       "</table>\n",
       "<p>2421 rows × 7 columns</p>\n",
       "</div>"
      ],
      "text/plain": [
       "      자치구                                              안심 주소 CCTV 용도  \\\n",
       "1     강서구                  P253001(A5002)_화곡1동 908-9(호돌이 공원)    도심공원   \n",
       "2     강서구                       P303005_화곡8동 892-17(모태어린이공원)    도심공원   \n",
       "3     강서구                        P263002_화곡2동 883-3 하마터어린이공원    도심공원   \n",
       "4     강서구                       P263001_화곡2동 845-19 뜸부기어린이공원    도심공원   \n",
       "5     강서구                       P253005_화곡1동 355-12(필마어린이공원)    도심공원   \n",
       "...   ...                                                ...     ...   \n",
       "2417  강서구  S222006(B1006)_방화3동 816 방화6단지 602동 앞(삼정초등학교)(보...   어린이안전   \n",
       "2418  강서구  S222006(B1006)_방화3동 816 방화6단지 602동 앞(삼정초등학교)(보...   어린이안전   \n",
       "2419  강서구               S222001(A1064)_(스쿨존)방화3동 798(삼정초등학교)   어린이안전   \n",
       "2420  강서구      S222001(A1064)_(스쿨존)방화3동 798(삼정초등학교)(보조1)정문방향   어린이안전   \n",
       "2421  강서구  S222001(A1064)_(스쿨존)방화3동 798(삼정초등학교)(보조2)도시개발6...   어린이안전   \n",
       "\n",
       "               위도           경도 CCTV 수량       수정 일시  \n",
       "1       37.528107    126.84598       1  2021-01-29  \n",
       "2     37.52947231  126.8496212       1  2021-01-29  \n",
       "3     37.52999848  126.8534461       1  2021-01-29  \n",
       "4       37.530087   126.856926       1  2021-01-29  \n",
       "5     37.53159999  126.8387572       1  2021-01-29  \n",
       "...           ...          ...     ...         ...  \n",
       "2417    37.579197    126.81064       1  2021-01-29  \n",
       "2418    37.579197    126.81064       1  2021-01-29  \n",
       "2419    37.579613    126.81066       1  2021-01-29  \n",
       "2420    37.579613    126.81066       1  2021-01-29  \n",
       "2421    37.579613    126.81066       1  2021-01-29  \n",
       "\n",
       "[2421 rows x 7 columns]"
      ]
     },
     "execution_count": 8,
     "metadata": {},
     "output_type": "execute_result"
    }
   ],
   "source": [
    "# 모든 정보가 저장된 데이터프레임\n",
    "cctv_data"
   ]
  },
  {
   "cell_type": "code",
   "execution_count": 9,
   "metadata": {},
   "outputs": [
    {
     "name": "stdout",
     "output_type": "stream",
     "text": [
      "0\n"
     ]
    }
   ],
   "source": [
    "# cctv 수량이 1이 아닌 행 찾기\n",
    "sum_cctv = 0\n",
    "for i in cctv_data[\"CCTV 수량\"]:\n",
    "    if int(i) == 1:\n",
    "        pass\n",
    "    else:\n",
    "        sum_cctv += 1\n",
    "print(sum_cctv)"
   ]
  },
  {
   "cell_type": "code",
   "execution_count": 10,
   "metadata": {},
   "outputs": [
    {
     "data": {
      "text/plain": [
       "<AxesSubplot:xlabel='CCTV 용도', ylabel='count'>"
      ]
     },
     "execution_count": 10,
     "metadata": {},
     "output_type": "execute_result"
    },
    {
     "data": {
      "image/png": "[encoded data removed]",
      "text/plain": [
       "<Figure size 432x288 with 1 Axes>"
      ]
     },
     "metadata": {},
     "output_type": "display_data"
    }
   ],
   "source": [
    "# CCTV 용도 시각화\n",
    "import seaborn as sns\n",
    "import matplotlib.pyplot as plt\n",
    "\n",
    "sns.set_style(\"ticks\")\n",
    "plt.rc('font',family = 'Malgun Gothic')\n",
    "sns.countplot(x=\"CCTV 용도\",data=cctv_data_au)"
   ]
  },
  {
   "cell_type": "code",
   "execution_count": 11,
   "metadata": {},
   "outputs": [
    {
     "name": "stdout",
     "output_type": "stream",
     "text": [
      "37.58878942\n",
      "37.527225\n",
      "126.8772256\n",
      "126.798618\n"
     ]
    }
   ],
   "source": [
    "# 지도의 크기를 지정하기 위해 cctv의 위치 정보를 활용한다.\n",
    "print(max(cctv_data_ll[\"위도\"]))\n",
    "print(min(cctv_data_ll[\"위도\"]))\n",
    "print(max(cctv_data_ll[\"경도\"]))\n",
    "print(min(cctv_data_ll[\"경도\"]))"
   ]
  },
  {
   "cell_type": "code",
   "execution_count": 40,
   "metadata": {},
   "outputs": [
    {
     "data": {
      "text/plain": [
       "<folium.features.GeoJson at 0x243818f8fa0>"
      ]
     },
     "execution_count": 40,
     "metadata": {},
     "output_type": "execute_result"
    }
   ],
   "source": [
    "# 강서구 행정구역 표시\n",
    "import json\n",
    "import folium\n",
    "\n",
    "gangseo_map = folium.Map(location=[37.55800721,126.84], zoom_start=14)\n",
    "\n",
    "with open(\"../data/ganseo.json\", mode= \"rt\",encoding= \"utf-8\") as f:\n",
    "    geo = json.loads(f.read())\n",
    "    f.close\n",
    "\n",
    "folium.GeoJson(geo,name=\"seoul\").add_to(gangseo_map)"
   ]
  },
  {
   "cell_type": "code",
   "execution_count": 36,
   "metadata": {},
   "outputs": [],
   "source": [
    "gangseo_map = folium.Map(location=[37.55800721,126.84], zoom_start=14)"
   ]
  },
  {
   "cell_type": "code",
   "execution_count": 28,
   "metadata": {},
   "outputs": [],
   "source": [
    "# 지도에 ccvt 위치 표시\n",
    "for lat,lng in zip(cctv_data_ll.위도, cctv_data_ll.경도):\n",
    "    folium.Marker([lat,lng]).add_to(gangseo_map)\n",
    "\n",
    "gangseo_map.save('./강서구 cctv 지도.html')"
   ]
  },
  {
   "cell_type": "code",
   "execution_count": 39,
   "metadata": {},
   "outputs": [
    {
     "data": {
      "text/plain": [
       "<folium.features.GeoJson at 0x243f8398100>"
      ]
     },
     "execution_count": 39,
     "metadata": {},
     "output_type": "execute_result"
    }
   ],
   "source": [
    "gangseo_map"
   ]
  },
  {
   "cell_type": "code",
   "execution_count": 34,
   "metadata": {},
   "outputs": [],
   "source": [
    "from folium.plugins import HeatMap\n",
    "\n",
    "gangseo_heatmap = folium.Map(location=[37.55800721,126.84], zoom_start=14)\n",
    "\n",
    "heatmap = HeatMap(cctv_data_ll)"
   ]
  },
  {
   "cell_type": "code",
   "execution_count": 37,
   "metadata": {},
   "outputs": [],
   "source": [
    "gangseo_heatmap.save(\"./강서구 cctv 히트맵.html\")"
   ]
  },
  {
   "cell_type": "code",
   "execution_count": null,
   "metadata": {},
   "outputs": [],
   "source": []
  }
 ],
 "metadata": {
  "interpreter": {
   "hash": "83d3e1d533d06a5ed13bdd408cfdbe5752516a627e355ce33664633b6ff4534e"
  },
  "kernelspec": {
   "display_name": "Python 3.9.7 ('base')",
   "language": "python",
   "name": "python3"
  },
  "language_info": {
   "codemirror_mode": {
    "name": "ipython",
    "version": 3
   },
   "file_extension": ".py",
   "mimetype": "text/x-python",
   "name": "python",
   "nbconvert_exporter": "python",
   "pygments_lexer": "ipython3",
   "version": "3.9.7"
  },
  "orig_nbformat": 4
 },
 "nbformat": 4,
 "nbformat_minor": 2
}
