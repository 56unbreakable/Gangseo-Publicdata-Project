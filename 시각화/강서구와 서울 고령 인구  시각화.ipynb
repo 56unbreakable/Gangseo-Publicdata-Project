{
 "cells": [
  {
   "cell_type": "markdown",
   "id": "3863801e",
   "metadata": {},
   "source": [
    "# 강서구와 서울 65세 이상 인구 시각화"
   ]
  },
  {
   "cell_type": "code",
   "execution_count": 1,
   "id": "0078d44c",
   "metadata": {},
   "outputs": [],
   "source": [
    "import pandas as pd "
   ]
  },
  {
   "cell_type": "code",
   "execution_count": 2,
   "id": "1c069a1c",
   "metadata": {},
   "outputs": [],
   "source": [
    "df = pd.read_excel('./서울 고령 인구수.xls')"
   ]
  },
  {
   "cell_type": "code",
   "execution_count": 3,
   "id": "621a895c",
   "metadata": {
    "scrolled": true
   },
   "outputs": [
    {
     "data": {
      "text/html": [
       "<div>\n",
       "<style scoped>\n",
       "    .dataframe tbody tr th:only-of-type {\n",
       "        vertical-align: middle;\n",
       "    }\n",
       "\n",
       "    .dataframe tbody tr th {\n",
       "        vertical-align: top;\n",
       "    }\n",
       "\n",
       "    .dataframe thead th {\n",
       "        text-align: right;\n",
       "    }\n",
       "</style>\n",
       "<table border=\"1\" class=\"dataframe\">\n",
       "  <thead>\n",
       "    <tr style=\"text-align: right;\">\n",
       "      <th></th>\n",
       "      <th>기간</th>\n",
       "      <th>행정구역별</th>\n",
       "      <th>고령인구</th>\n",
       "      <th>남자</th>\n",
       "      <th>여자</th>\n",
       "    </tr>\n",
       "  </thead>\n",
       "  <tbody>\n",
       "    <tr>\n",
       "      <th>0</th>\n",
       "      <td>2022</td>\n",
       "      <td>합계</td>\n",
       "      <td>1620545</td>\n",
       "      <td>717033</td>\n",
       "      <td>903512</td>\n",
       "    </tr>\n",
       "    <tr>\n",
       "      <th>1</th>\n",
       "      <td>2022</td>\n",
       "      <td>종로구</td>\n",
       "      <td>27019</td>\n",
       "      <td>11902</td>\n",
       "      <td>15117</td>\n",
       "    </tr>\n",
       "    <tr>\n",
       "      <th>2</th>\n",
       "      <td>2022</td>\n",
       "      <td>중구</td>\n",
       "      <td>23474</td>\n",
       "      <td>10112</td>\n",
       "      <td>13362</td>\n",
       "    </tr>\n",
       "    <tr>\n",
       "      <th>3</th>\n",
       "      <td>2022</td>\n",
       "      <td>용산구</td>\n",
       "      <td>37357</td>\n",
       "      <td>16076</td>\n",
       "      <td>21281</td>\n",
       "    </tr>\n",
       "    <tr>\n",
       "      <th>4</th>\n",
       "      <td>2022</td>\n",
       "      <td>성동구</td>\n",
       "      <td>48880</td>\n",
       "      <td>21269</td>\n",
       "      <td>27611</td>\n",
       "    </tr>\n",
       "    <tr>\n",
       "      <th>5</th>\n",
       "      <td>2022</td>\n",
       "      <td>광진구</td>\n",
       "      <td>53587</td>\n",
       "      <td>24012</td>\n",
       "      <td>29575</td>\n",
       "    </tr>\n",
       "    <tr>\n",
       "      <th>6</th>\n",
       "      <td>2022</td>\n",
       "      <td>동대문구</td>\n",
       "      <td>62904</td>\n",
       "      <td>27947</td>\n",
       "      <td>34957</td>\n",
       "    </tr>\n",
       "    <tr>\n",
       "      <th>7</th>\n",
       "      <td>2022</td>\n",
       "      <td>중랑구</td>\n",
       "      <td>71803</td>\n",
       "      <td>32191</td>\n",
       "      <td>39612</td>\n",
       "    </tr>\n",
       "    <tr>\n",
       "      <th>8</th>\n",
       "      <td>2022</td>\n",
       "      <td>성북구</td>\n",
       "      <td>73764</td>\n",
       "      <td>31604</td>\n",
       "      <td>42160</td>\n",
       "    </tr>\n",
       "    <tr>\n",
       "      <th>9</th>\n",
       "      <td>2022</td>\n",
       "      <td>강북구</td>\n",
       "      <td>64386</td>\n",
       "      <td>27638</td>\n",
       "      <td>36748</td>\n",
       "    </tr>\n",
       "    <tr>\n",
       "      <th>10</th>\n",
       "      <td>2022</td>\n",
       "      <td>도봉구</td>\n",
       "      <td>66133</td>\n",
       "      <td>29531</td>\n",
       "      <td>36602</td>\n",
       "    </tr>\n",
       "    <tr>\n",
       "      <th>11</th>\n",
       "      <td>2022</td>\n",
       "      <td>노원구</td>\n",
       "      <td>88934</td>\n",
       "      <td>37838</td>\n",
       "      <td>51096</td>\n",
       "    </tr>\n",
       "    <tr>\n",
       "      <th>12</th>\n",
       "      <td>2022</td>\n",
       "      <td>은평구</td>\n",
       "      <td>86735</td>\n",
       "      <td>37568</td>\n",
       "      <td>49167</td>\n",
       "    </tr>\n",
       "    <tr>\n",
       "      <th>13</th>\n",
       "      <td>2022</td>\n",
       "      <td>서대문구</td>\n",
       "      <td>54244</td>\n",
       "      <td>22992</td>\n",
       "      <td>31252</td>\n",
       "    </tr>\n",
       "    <tr>\n",
       "      <th>14</th>\n",
       "      <td>2022</td>\n",
       "      <td>마포구</td>\n",
       "      <td>53201</td>\n",
       "      <td>22397</td>\n",
       "      <td>30804</td>\n",
       "    </tr>\n",
       "    <tr>\n",
       "      <th>15</th>\n",
       "      <td>2022</td>\n",
       "      <td>양천구</td>\n",
       "      <td>68633</td>\n",
       "      <td>30747</td>\n",
       "      <td>37886</td>\n",
       "    </tr>\n",
       "    <tr>\n",
       "      <th>16</th>\n",
       "      <td>2022</td>\n",
       "      <td>강서구</td>\n",
       "      <td>95427</td>\n",
       "      <td>42265</td>\n",
       "      <td>53162</td>\n",
       "    </tr>\n",
       "    <tr>\n",
       "      <th>17</th>\n",
       "      <td>2022</td>\n",
       "      <td>구로구</td>\n",
       "      <td>79250</td>\n",
       "      <td>36133</td>\n",
       "      <td>43117</td>\n",
       "    </tr>\n",
       "    <tr>\n",
       "      <th>18</th>\n",
       "      <td>2022</td>\n",
       "      <td>금천구</td>\n",
       "      <td>44830</td>\n",
       "      <td>20365</td>\n",
       "      <td>24465</td>\n",
       "    </tr>\n",
       "    <tr>\n",
       "      <th>19</th>\n",
       "      <td>2022</td>\n",
       "      <td>영등포구</td>\n",
       "      <td>65463</td>\n",
       "      <td>29575</td>\n",
       "      <td>35888</td>\n",
       "    </tr>\n",
       "    <tr>\n",
       "      <th>20</th>\n",
       "      <td>2022</td>\n",
       "      <td>동작구</td>\n",
       "      <td>68474</td>\n",
       "      <td>29893</td>\n",
       "      <td>38581</td>\n",
       "    </tr>\n",
       "    <tr>\n",
       "      <th>21</th>\n",
       "      <td>2022</td>\n",
       "      <td>관악구</td>\n",
       "      <td>81880</td>\n",
       "      <td>36361</td>\n",
       "      <td>45519</td>\n",
       "    </tr>\n",
       "    <tr>\n",
       "      <th>22</th>\n",
       "      <td>2022</td>\n",
       "      <td>서초구</td>\n",
       "      <td>60736</td>\n",
       "      <td>27502</td>\n",
       "      <td>33234</td>\n",
       "    </tr>\n",
       "    <tr>\n",
       "      <th>23</th>\n",
       "      <td>2022</td>\n",
       "      <td>강남구</td>\n",
       "      <td>75180</td>\n",
       "      <td>33915</td>\n",
       "      <td>41265</td>\n",
       "    </tr>\n",
       "    <tr>\n",
       "      <th>24</th>\n",
       "      <td>2022</td>\n",
       "      <td>송파구</td>\n",
       "      <td>99566</td>\n",
       "      <td>46078</td>\n",
       "      <td>53488</td>\n",
       "    </tr>\n",
       "    <tr>\n",
       "      <th>25</th>\n",
       "      <td>2022</td>\n",
       "      <td>강동구</td>\n",
       "      <td>68685</td>\n",
       "      <td>31122</td>\n",
       "      <td>37563</td>\n",
       "    </tr>\n",
       "  </tbody>\n",
       "</table>\n",
       "</div>"
      ],
      "text/plain": [
       "      기간 행정구역별     고령인구      남자      여자\n",
       "0   2022    합계  1620545  717033  903512\n",
       "1   2022   종로구    27019   11902   15117\n",
       "2   2022    중구    23474   10112   13362\n",
       "3   2022   용산구    37357   16076   21281\n",
       "4   2022   성동구    48880   21269   27611\n",
       "5   2022   광진구    53587   24012   29575\n",
       "6   2022  동대문구    62904   27947   34957\n",
       "7   2022   중랑구    71803   32191   39612\n",
       "8   2022   성북구    73764   31604   42160\n",
       "9   2022   강북구    64386   27638   36748\n",
       "10  2022   도봉구    66133   29531   36602\n",
       "11  2022   노원구    88934   37838   51096\n",
       "12  2022   은평구    86735   37568   49167\n",
       "13  2022  서대문구    54244   22992   31252\n",
       "14  2022   마포구    53201   22397   30804\n",
       "15  2022   양천구    68633   30747   37886\n",
       "16  2022   강서구    95427   42265   53162\n",
       "17  2022   구로구    79250   36133   43117\n",
       "18  2022   금천구    44830   20365   24465\n",
       "19  2022  영등포구    65463   29575   35888\n",
       "20  2022   동작구    68474   29893   38581\n",
       "21  2022   관악구    81880   36361   45519\n",
       "22  2022   서초구    60736   27502   33234\n",
       "23  2022   강남구    75180   33915   41265\n",
       "24  2022   송파구    99566   46078   53488\n",
       "25  2022   강동구    68685   31122   37563"
      ]
     },
     "execution_count": 3,
     "metadata": {},
     "output_type": "execute_result"
    }
   ],
   "source": [
    "df"
   ]
  },
  {
   "cell_type": "code",
   "execution_count": 4,
   "id": "de79adcf",
   "metadata": {},
   "outputs": [
    {
     "data": {
      "text/plain": [
       "기간       0\n",
       "행정구역별    0\n",
       "고령인구     0\n",
       "남자       0\n",
       "여자       0\n",
       "dtype: int64"
      ]
     },
     "execution_count": 4,
     "metadata": {},
     "output_type": "execute_result"
    }
   ],
   "source": [
    "# 결측치 확인\n",
    "df.isnull().sum()"
   ]
  },
  {
   "cell_type": "code",
   "execution_count": 5,
   "id": "63009d89",
   "metadata": {},
   "outputs": [
    {
     "name": "stdout",
     "output_type": "stream",
     "text": [
      "<class 'pandas.core.frame.DataFrame'>\n",
      "RangeIndex: 26 entries, 0 to 25\n",
      "Data columns (total 5 columns):\n",
      " #   Column  Non-Null Count  Dtype \n",
      "---  ------  --------------  ----- \n",
      " 0   기간      26 non-null     int64 \n",
      " 1   행정구역별   26 non-null     object\n",
      " 2   고령인구    26 non-null     int64 \n",
      " 3   남자      26 non-null     int64 \n",
      " 4   여자      26 non-null     int64 \n",
      "dtypes: int64(4), object(1)\n",
      "memory usage: 1.1+ KB\n"
     ]
    }
   ],
   "source": [
    "df.info()"
   ]
  },
  {
   "cell_type": "code",
   "execution_count": 6,
   "id": "d7b1c027",
   "metadata": {},
   "outputs": [
    {
     "data": {
      "text/html": [
       "<div>\n",
       "<style scoped>\n",
       "    .dataframe tbody tr th:only-of-type {\n",
       "        vertical-align: middle;\n",
       "    }\n",
       "\n",
       "    .dataframe tbody tr th {\n",
       "        vertical-align: top;\n",
       "    }\n",
       "\n",
       "    .dataframe thead th {\n",
       "        text-align: right;\n",
       "    }\n",
       "</style>\n",
       "<table border=\"1\" class=\"dataframe\">\n",
       "  <thead>\n",
       "    <tr style=\"text-align: right;\">\n",
       "      <th></th>\n",
       "      <th>기간</th>\n",
       "      <th>고령인구</th>\n",
       "      <th>남자</th>\n",
       "      <th>여자</th>\n",
       "    </tr>\n",
       "  </thead>\n",
       "  <tbody>\n",
       "    <tr>\n",
       "      <th>count</th>\n",
       "      <td>26.0</td>\n",
       "      <td>2.600000e+01</td>\n",
       "      <td>26.000000</td>\n",
       "      <td>26.000000</td>\n",
       "    </tr>\n",
       "    <tr>\n",
       "      <th>mean</th>\n",
       "      <td>2022.0</td>\n",
       "      <td>1.246573e+05</td>\n",
       "      <td>55156.384615</td>\n",
       "      <td>69500.923077</td>\n",
       "    </tr>\n",
       "    <tr>\n",
       "      <th>std</th>\n",
       "      <td>0.0</td>\n",
       "      <td>3.056870e+05</td>\n",
       "      <td>135268.011451</td>\n",
       "      <td>170423.047432</td>\n",
       "    </tr>\n",
       "    <tr>\n",
       "      <th>min</th>\n",
       "      <td>2022.0</td>\n",
       "      <td>2.347400e+04</td>\n",
       "      <td>10112.000000</td>\n",
       "      <td>13362.000000</td>\n",
       "    </tr>\n",
       "    <tr>\n",
       "      <th>25%</th>\n",
       "      <td>2022.0</td>\n",
       "      <td>5.375125e+04</td>\n",
       "      <td>23247.000000</td>\n",
       "      <td>30916.000000</td>\n",
       "    </tr>\n",
       "    <tr>\n",
       "      <th>50%</th>\n",
       "      <td>2022.0</td>\n",
       "      <td>6.730350e+04</td>\n",
       "      <td>29734.000000</td>\n",
       "      <td>37155.500000</td>\n",
       "    </tr>\n",
       "    <tr>\n",
       "      <th>75%</th>\n",
       "      <td>2022.0</td>\n",
       "      <td>7.823250e+04</td>\n",
       "      <td>35578.500000</td>\n",
       "      <td>42877.750000</td>\n",
       "    </tr>\n",
       "    <tr>\n",
       "      <th>max</th>\n",
       "      <td>2022.0</td>\n",
       "      <td>1.620545e+06</td>\n",
       "      <td>717033.000000</td>\n",
       "      <td>903512.000000</td>\n",
       "    </tr>\n",
       "  </tbody>\n",
       "</table>\n",
       "</div>"
      ],
      "text/plain": [
       "           기간          고령인구             남자             여자\n",
       "count    26.0  2.600000e+01      26.000000      26.000000\n",
       "mean   2022.0  1.246573e+05   55156.384615   69500.923077\n",
       "std       0.0  3.056870e+05  135268.011451  170423.047432\n",
       "min    2022.0  2.347400e+04   10112.000000   13362.000000\n",
       "25%    2022.0  5.375125e+04   23247.000000   30916.000000\n",
       "50%    2022.0  6.730350e+04   29734.000000   37155.500000\n",
       "75%    2022.0  7.823250e+04   35578.500000   42877.750000\n",
       "max    2022.0  1.620545e+06  717033.000000  903512.000000"
      ]
     },
     "execution_count": 6,
     "metadata": {},
     "output_type": "execute_result"
    }
   ],
   "source": [
    "df.describe()"
   ]
  },
  {
   "cell_type": "code",
   "execution_count": 7,
   "id": "2f384a75",
   "metadata": {},
   "outputs": [
    {
     "data": {
      "text/plain": [
       "'기간'"
      ]
     },
     "execution_count": 7,
     "metadata": {},
     "output_type": "execute_result"
    }
   ],
   "source": [
    "df.columns[0]"
   ]
  },
  {
   "cell_type": "code",
   "execution_count": 8,
   "id": "129b4507",
   "metadata": {},
   "outputs": [],
   "source": [
    "df1 = pd.read_excel('./서울 고령 인구수.xls', index_col = '행정구역별', usecols = \"B:C\")"
   ]
  },
  {
   "cell_type": "code",
   "execution_count": 9,
   "id": "c6f46448",
   "metadata": {},
   "outputs": [
    {
     "data": {
      "text/html": [
       "<div>\n",
       "<style scoped>\n",
       "    .dataframe tbody tr th:only-of-type {\n",
       "        vertical-align: middle;\n",
       "    }\n",
       "\n",
       "    .dataframe tbody tr th {\n",
       "        vertical-align: top;\n",
       "    }\n",
       "\n",
       "    .dataframe thead th {\n",
       "        text-align: right;\n",
       "    }\n",
       "</style>\n",
       "<table border=\"1\" class=\"dataframe\">\n",
       "  <thead>\n",
       "    <tr style=\"text-align: right;\">\n",
       "      <th></th>\n",
       "      <th>고령인구</th>\n",
       "    </tr>\n",
       "    <tr>\n",
       "      <th>행정구역별</th>\n",
       "      <th></th>\n",
       "    </tr>\n",
       "  </thead>\n",
       "  <tbody>\n",
       "    <tr>\n",
       "      <th>합계</th>\n",
       "      <td>1620545</td>\n",
       "    </tr>\n",
       "    <tr>\n",
       "      <th>종로구</th>\n",
       "      <td>27019</td>\n",
       "    </tr>\n",
       "    <tr>\n",
       "      <th>중구</th>\n",
       "      <td>23474</td>\n",
       "    </tr>\n",
       "    <tr>\n",
       "      <th>용산구</th>\n",
       "      <td>37357</td>\n",
       "    </tr>\n",
       "    <tr>\n",
       "      <th>성동구</th>\n",
       "      <td>48880</td>\n",
       "    </tr>\n",
       "    <tr>\n",
       "      <th>광진구</th>\n",
       "      <td>53587</td>\n",
       "    </tr>\n",
       "    <tr>\n",
       "      <th>동대문구</th>\n",
       "      <td>62904</td>\n",
       "    </tr>\n",
       "    <tr>\n",
       "      <th>중랑구</th>\n",
       "      <td>71803</td>\n",
       "    </tr>\n",
       "    <tr>\n",
       "      <th>성북구</th>\n",
       "      <td>73764</td>\n",
       "    </tr>\n",
       "    <tr>\n",
       "      <th>강북구</th>\n",
       "      <td>64386</td>\n",
       "    </tr>\n",
       "    <tr>\n",
       "      <th>도봉구</th>\n",
       "      <td>66133</td>\n",
       "    </tr>\n",
       "    <tr>\n",
       "      <th>노원구</th>\n",
       "      <td>88934</td>\n",
       "    </tr>\n",
       "    <tr>\n",
       "      <th>은평구</th>\n",
       "      <td>86735</td>\n",
       "    </tr>\n",
       "    <tr>\n",
       "      <th>서대문구</th>\n",
       "      <td>54244</td>\n",
       "    </tr>\n",
       "    <tr>\n",
       "      <th>마포구</th>\n",
       "      <td>53201</td>\n",
       "    </tr>\n",
       "    <tr>\n",
       "      <th>양천구</th>\n",
       "      <td>68633</td>\n",
       "    </tr>\n",
       "    <tr>\n",
       "      <th>강서구</th>\n",
       "      <td>95427</td>\n",
       "    </tr>\n",
       "    <tr>\n",
       "      <th>구로구</th>\n",
       "      <td>79250</td>\n",
       "    </tr>\n",
       "    <tr>\n",
       "      <th>금천구</th>\n",
       "      <td>44830</td>\n",
       "    </tr>\n",
       "    <tr>\n",
       "      <th>영등포구</th>\n",
       "      <td>65463</td>\n",
       "    </tr>\n",
       "    <tr>\n",
       "      <th>동작구</th>\n",
       "      <td>68474</td>\n",
       "    </tr>\n",
       "    <tr>\n",
       "      <th>관악구</th>\n",
       "      <td>81880</td>\n",
       "    </tr>\n",
       "    <tr>\n",
       "      <th>서초구</th>\n",
       "      <td>60736</td>\n",
       "    </tr>\n",
       "    <tr>\n",
       "      <th>강남구</th>\n",
       "      <td>75180</td>\n",
       "    </tr>\n",
       "    <tr>\n",
       "      <th>송파구</th>\n",
       "      <td>99566</td>\n",
       "    </tr>\n",
       "    <tr>\n",
       "      <th>강동구</th>\n",
       "      <td>68685</td>\n",
       "    </tr>\n",
       "  </tbody>\n",
       "</table>\n",
       "</div>"
      ],
      "text/plain": [
       "          고령인구\n",
       "행정구역별         \n",
       "합계     1620545\n",
       "종로구      27019\n",
       "중구       23474\n",
       "용산구      37357\n",
       "성동구      48880\n",
       "광진구      53587\n",
       "동대문구     62904\n",
       "중랑구      71803\n",
       "성북구      73764\n",
       "강북구      64386\n",
       "도봉구      66133\n",
       "노원구      88934\n",
       "은평구      86735\n",
       "서대문구     54244\n",
       "마포구      53201\n",
       "양천구      68633\n",
       "강서구      95427\n",
       "구로구      79250\n",
       "금천구      44830\n",
       "영등포구     65463\n",
       "동작구      68474\n",
       "관악구      81880\n",
       "서초구      60736\n",
       "강남구      75180\n",
       "송파구      99566\n",
       "강동구      68685"
      ]
     },
     "execution_count": 9,
     "metadata": {},
     "output_type": "execute_result"
    }
   ],
   "source": [
    "df1"
   ]
  },
  {
   "cell_type": "code",
   "execution_count": 10,
   "id": "87f19897",
   "metadata": {},
   "outputs": [],
   "source": [
    "df2 = df1.drop(\"합계\", axis = \"index\")"
   ]
  },
  {
   "cell_type": "code",
   "execution_count": 11,
   "id": "52981503",
   "metadata": {},
   "outputs": [
    {
     "data": {
      "text/html": [
       "<div>\n",
       "<style scoped>\n",
       "    .dataframe tbody tr th:only-of-type {\n",
       "        vertical-align: middle;\n",
       "    }\n",
       "\n",
       "    .dataframe tbody tr th {\n",
       "        vertical-align: top;\n",
       "    }\n",
       "\n",
       "    .dataframe thead th {\n",
       "        text-align: right;\n",
       "    }\n",
       "</style>\n",
       "<table border=\"1\" class=\"dataframe\">\n",
       "  <thead>\n",
       "    <tr style=\"text-align: right;\">\n",
       "      <th></th>\n",
       "      <th>고령인구</th>\n",
       "    </tr>\n",
       "    <tr>\n",
       "      <th>행정구역별</th>\n",
       "      <th></th>\n",
       "    </tr>\n",
       "  </thead>\n",
       "  <tbody>\n",
       "    <tr>\n",
       "      <th>종로구</th>\n",
       "      <td>27019</td>\n",
       "    </tr>\n",
       "    <tr>\n",
       "      <th>중구</th>\n",
       "      <td>23474</td>\n",
       "    </tr>\n",
       "    <tr>\n",
       "      <th>용산구</th>\n",
       "      <td>37357</td>\n",
       "    </tr>\n",
       "    <tr>\n",
       "      <th>성동구</th>\n",
       "      <td>48880</td>\n",
       "    </tr>\n",
       "    <tr>\n",
       "      <th>광진구</th>\n",
       "      <td>53587</td>\n",
       "    </tr>\n",
       "    <tr>\n",
       "      <th>동대문구</th>\n",
       "      <td>62904</td>\n",
       "    </tr>\n",
       "    <tr>\n",
       "      <th>중랑구</th>\n",
       "      <td>71803</td>\n",
       "    </tr>\n",
       "    <tr>\n",
       "      <th>성북구</th>\n",
       "      <td>73764</td>\n",
       "    </tr>\n",
       "    <tr>\n",
       "      <th>강북구</th>\n",
       "      <td>64386</td>\n",
       "    </tr>\n",
       "    <tr>\n",
       "      <th>도봉구</th>\n",
       "      <td>66133</td>\n",
       "    </tr>\n",
       "    <tr>\n",
       "      <th>노원구</th>\n",
       "      <td>88934</td>\n",
       "    </tr>\n",
       "    <tr>\n",
       "      <th>은평구</th>\n",
       "      <td>86735</td>\n",
       "    </tr>\n",
       "    <tr>\n",
       "      <th>서대문구</th>\n",
       "      <td>54244</td>\n",
       "    </tr>\n",
       "    <tr>\n",
       "      <th>마포구</th>\n",
       "      <td>53201</td>\n",
       "    </tr>\n",
       "    <tr>\n",
       "      <th>양천구</th>\n",
       "      <td>68633</td>\n",
       "    </tr>\n",
       "    <tr>\n",
       "      <th>강서구</th>\n",
       "      <td>95427</td>\n",
       "    </tr>\n",
       "    <tr>\n",
       "      <th>구로구</th>\n",
       "      <td>79250</td>\n",
       "    </tr>\n",
       "    <tr>\n",
       "      <th>금천구</th>\n",
       "      <td>44830</td>\n",
       "    </tr>\n",
       "    <tr>\n",
       "      <th>영등포구</th>\n",
       "      <td>65463</td>\n",
       "    </tr>\n",
       "    <tr>\n",
       "      <th>동작구</th>\n",
       "      <td>68474</td>\n",
       "    </tr>\n",
       "    <tr>\n",
       "      <th>관악구</th>\n",
       "      <td>81880</td>\n",
       "    </tr>\n",
       "    <tr>\n",
       "      <th>서초구</th>\n",
       "      <td>60736</td>\n",
       "    </tr>\n",
       "    <tr>\n",
       "      <th>강남구</th>\n",
       "      <td>75180</td>\n",
       "    </tr>\n",
       "    <tr>\n",
       "      <th>송파구</th>\n",
       "      <td>99566</td>\n",
       "    </tr>\n",
       "    <tr>\n",
       "      <th>강동구</th>\n",
       "      <td>68685</td>\n",
       "    </tr>\n",
       "  </tbody>\n",
       "</table>\n",
       "</div>"
      ],
      "text/plain": [
       "        고령인구\n",
       "행정구역별       \n",
       "종로구    27019\n",
       "중구     23474\n",
       "용산구    37357\n",
       "성동구    48880\n",
       "광진구    53587\n",
       "동대문구   62904\n",
       "중랑구    71803\n",
       "성북구    73764\n",
       "강북구    64386\n",
       "도봉구    66133\n",
       "노원구    88934\n",
       "은평구    86735\n",
       "서대문구   54244\n",
       "마포구    53201\n",
       "양천구    68633\n",
       "강서구    95427\n",
       "구로구    79250\n",
       "금천구    44830\n",
       "영등포구   65463\n",
       "동작구    68474\n",
       "관악구    81880\n",
       "서초구    60736\n",
       "강남구    75180\n",
       "송파구    99566\n",
       "강동구    68685"
      ]
     },
     "execution_count": 11,
     "metadata": {},
     "output_type": "execute_result"
    }
   ],
   "source": [
    "df2"
   ]
  },
  {
   "cell_type": "code",
   "execution_count": 12,
   "id": "6adb04c4",
   "metadata": {},
   "outputs": [
    {
     "data": {
      "text/plain": [
       "행정구역별\n",
       "종로구     27019\n",
       "중구      23474\n",
       "용산구     37357\n",
       "성동구     48880\n",
       "광진구     53587\n",
       "동대문구    62904\n",
       "중랑구     71803\n",
       "성북구     73764\n",
       "강북구     64386\n",
       "도봉구     66133\n",
       "노원구     88934\n",
       "은평구     86735\n",
       "서대문구    54244\n",
       "마포구     53201\n",
       "양천구     68633\n",
       "강서구     95427\n",
       "구로구     79250\n",
       "금천구     44830\n",
       "영등포구    65463\n",
       "동작구     68474\n",
       "관악구     81880\n",
       "서초구     60736\n",
       "강남구     75180\n",
       "송파구     99566\n",
       "강동구     68685\n",
       "Name: 고령인구, dtype: int64"
      ]
     },
     "execution_count": 12,
     "metadata": {},
     "output_type": "execute_result"
    }
   ],
   "source": [
    "df2['고령인구']"
   ]
  },
  {
   "cell_type": "code",
   "execution_count": 13,
   "id": "b2157df6",
   "metadata": {},
   "outputs": [
    {
     "data": {
      "text/plain": [
       "array([27019, 23474, 37357, 48880, 53587, 62904, 71803, 73764, 64386,\n",
       "       66133, 88934, 86735, 54244, 53201, 68633, 95427, 79250, 44830,\n",
       "       65463, 68474, 81880, 60736, 75180, 99566, 68685], dtype=int64)"
      ]
     },
     "execution_count": 13,
     "metadata": {},
     "output_type": "execute_result"
    }
   ],
   "source": [
    "df2['고령인구'].values"
   ]
  },
  {
   "cell_type": "code",
   "execution_count": 14,
   "id": "e22b06e6",
   "metadata": {},
   "outputs": [
    {
     "data": {
      "text/plain": [
       "고령인구    64821.8\n",
       "dtype: float64"
      ]
     },
     "execution_count": 14,
     "metadata": {},
     "output_type": "execute_result"
    }
   ],
   "source": [
    "# 서울 전체 평균 고령 인구 수 \n",
    "df2.mean()"
   ]
  },
  {
   "cell_type": "code",
   "execution_count": 15,
   "id": "4de05a4f",
   "metadata": {},
   "outputs": [
    {
     "data": {
      "text/html": [
       "<div>\n",
       "<style scoped>\n",
       "    .dataframe tbody tr th:only-of-type {\n",
       "        vertical-align: middle;\n",
       "    }\n",
       "\n",
       "    .dataframe tbody tr th {\n",
       "        vertical-align: top;\n",
       "    }\n",
       "\n",
       "    .dataframe thead th {\n",
       "        text-align: right;\n",
       "    }\n",
       "</style>\n",
       "<table border=\"1\" class=\"dataframe\">\n",
       "  <thead>\n",
       "    <tr style=\"text-align: right;\">\n",
       "      <th></th>\n",
       "      <th>고령인구</th>\n",
       "    </tr>\n",
       "    <tr>\n",
       "      <th>행정구역별</th>\n",
       "      <th></th>\n",
       "    </tr>\n",
       "  </thead>\n",
       "  <tbody>\n",
       "    <tr>\n",
       "      <th>강서구</th>\n",
       "      <td>95427</td>\n",
       "    </tr>\n",
       "  </tbody>\n",
       "</table>\n",
       "</div>"
      ],
      "text/plain": [
       "        고령인구\n",
       "행정구역별       \n",
       "강서구    95427"
      ]
     },
     "execution_count": 15,
     "metadata": {},
     "output_type": "execute_result"
    }
   ],
   "source": [
    "# 강서구 고령인구 수 \n",
    "\n",
    "df4 = df2.iloc[15:16]\n",
    "df4"
   ]
  },
  {
   "cell_type": "code",
   "execution_count": null,
   "id": "4b16e641",
   "metadata": {},
   "outputs": [],
   "source": []
  },
  {
   "cell_type": "markdown",
   "id": "cbf04da6",
   "metadata": {},
   "source": [
    "## 인구 데이터 시각화"
   ]
  },
  {
   "cell_type": "code",
   "execution_count": 16,
   "id": "1b8032c5",
   "metadata": {},
   "outputs": [],
   "source": [
    "import matplotlib.pyplot as plt \n",
    "import matplotlib\n",
    "import numpy as np\n",
    "import seaborn as sns\n",
    "matplotlib.rcParams['font.family'] = 'Malgun Gothic'\n",
    "matplotlib.rcParams['font.size'] = 12  # 글씨 크기\n",
    "matplotlib.rcParams['axes.unicode_minus'] = False"
   ]
  },
  {
   "cell_type": "code",
   "execution_count": null,
   "id": "8133cea6",
   "metadata": {},
   "outputs": [],
   "source": []
  },
  {
   "cell_type": "code",
   "execution_count": 17,
   "id": "b0091281",
   "metadata": {
    "scrolled": false
   },
   "outputs": [
    {
     "data": {
      "text/plain": [
       "<AxesSubplot:xlabel='행정구역별', ylabel='고령인구'>"
      ]
     },
     "execution_count": 17,
     "metadata": {},
     "output_type": "execute_result"
    },
    {
     "data": {
      "image/png": "[encoded data removed]",
      "text/plain": [
       "<Figure size 1296x720 with 1 Axes>"
      ]
     },
     "metadata": {
      "needs_background": "light"
     },
     "output_type": "display_data"
    }
   ],
   "source": [
    "# 행정구역별 고령인구 수\n",
    "df3 = df2.sort_values('고령인구', ascending=False)\n",
    "plt.figure(figsize = (18,10))\n",
    "\n",
    "sns.lineplot(\n",
    "        x = '행정구역별',\n",
    "        y = '고령인구',\n",
    "        data = df3,\n",
    ")"
   ]
  },
  {
   "cell_type": "code",
   "execution_count": 18,
   "id": "9052cba6",
   "metadata": {},
   "outputs": [
    {
     "data": {
      "text/plain": [
       "<AxesSubplot:xlabel='행정구역별', ylabel='고령인구'>"
      ]
     },
     "execution_count": 18,
     "metadata": {},
     "output_type": "execute_result"
    },
    {
     "data": {
      "image/png": "[encoded data removed]",
      "text/plain": [
       "<Figure size 864x432 with 1 Axes>"
      ]
     },
     "metadata": {
      "needs_background": "light"
     },
     "output_type": "display_data"
    }
   ],
   "source": [
    "# 행정구역별 고령인구 순위\n",
    "\n",
    "df3 = df2.sort_values('고령인구', ascending=False)\n",
    "plt.figure(figsize = (12,6))\n",
    "plt.xticks(rotation = -45)\n",
    "sns.barplot(data=df3, x = df3.index, y = df3['고령인구'])"
   ]
  },
  {
   "cell_type": "code",
   "execution_count": 19,
   "id": "0709bd5d",
   "metadata": {},
   "outputs": [
    {
     "data": {
      "text/plain": [
       "<matplotlib.legend.Legend at 0x1f1f9eac3d0>"
      ]
     },
     "execution_count": 19,
     "metadata": {},
     "output_type": "execute_result"
    },
    {
     "data": {
      "image/png": "[encoded data removed]",
      "text/plain": [
       "<Figure size 432x288 with 1 Axes>"
      ]
     },
     "metadata": {},
     "output_type": "display_data"
    }
   ],
   "source": [
    "import matplotlib.pyplot as plt \n",
    "df5 = df3['고령인구'].head(5)\n",
    "plt.axis('equal')\n",
    "plt.title('서울 고령인구 수 상위 5위 자치구')\n",
    "plt.pie(df5, startangle=90, autopct='%.1f%%', explode=(0,0.1,0,0,0))\n",
    "plt.legend(labels = df3.index, title = '자치구')\n",
    "#plt.show()"
   ]
  },
  {
   "cell_type": "code",
   "execution_count": null,
   "id": "38e6c06b",
   "metadata": {},
   "outputs": [],
   "source": []
  },
  {
   "cell_type": "code",
   "execution_count": 20,
   "id": "414e6e60",
   "metadata": {},
   "outputs": [
    {
     "data": {
      "image/png": "[encoded data removed]",
      "text/plain": [
       "<Figure size 432x288 with 1 Axes>"
      ]
     },
     "metadata": {
      "needs_background": "light"
     },
     "output_type": "display_data"
    }
   ],
   "source": [
    "# 강서구와 서울 전체 평균 고령(65세 이상) 인구 비교 시각화 (그래프)\n",
    "\n",
    "import matplotlib.pyplot as plt \n",
    "import numpy as np\n",
    "\n",
    "x = np.arange(2)\n",
    "population = ['서울시 평균 고령인구 수', '강서구 고령인구 수']\n",
    "values = [64821.8, 95427]\n",
    "\n",
    "# 64821.8 = 서울 전체 평균 고령인구 수\n",
    "# 95427 = 강서구 고령인구 수\n",
    "\n",
    "plt.bar(x, values, color = ['skyblue', 'lightpink'])\n",
    "plt.xticks(x, population)\n",
    "plt.show()"
   ]
  }
 ],
 "metadata": {
  "kernelspec": {
   "display_name": "Python 3 (ipykernel)",
   "language": "python",
   "name": "python3"
  },
  "language_info": {
   "codemirror_mode": {
    "name": "ipython",
    "version": 3
   },
   "file_extension": ".py",
   "mimetype": "text/x-python",
   "name": "python",
   "nbconvert_exporter": "python",
   "pygments_lexer": "ipython3",
   "version": "3.9.7"
  }
 },
 "nbformat": 4,
 "nbformat_minor": 5
}
