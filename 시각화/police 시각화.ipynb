{
 "cells": [
  {
   "cell_type": "code",
   "execution_count": 1,
   "id": "e6a05e0a",
   "metadata": {},
   "outputs": [],
   "source": [
    "import pandas as pd \n",
    "\n",
    "police = pd.read_csv('./경찰청 서울특별시지방경찰청_서울특별시 경찰서별 112신고 출동현황.csv', encoding='cp949')"
   ]
  },
  {
   "cell_type": "code",
   "execution_count": 2,
   "id": "f7927621",
   "metadata": {
    "scrolled": true
   },
   "outputs": [
    {
     "name": "stdout",
     "output_type": "stream",
     "text": [
      "    경찰서    2011    2012    2013    2014    2015    2016    2017    2018  \\\n",
      "0    강남   97296   98690  100159  103080   99168   96852   98946   96853   \n",
      "1    강동   84504   87888   95647   98459   94193   87446   89844   86513   \n",
      "2    강북   76395   77858   80675   86820   79634   76723   74852   74597   \n",
      "3    강서  100005  101979  112628  121142  116561  111972  113142  113955   \n",
      "4    관악   97860  100626  112035  120163  113627  108733  107344  112146   \n",
      "5    광진   79937   84926   90730   98993   92547   88093   86536   86467   \n",
      "6    구로   82389   82257   85327   92733   89610   86042   84232   84500   \n",
      "7    금천   65974   67572   69167   70641   68027   64011   62881   66503   \n",
      "8   남대문   33263   33276   33138   35116   32992   31841   29090   28691   \n",
      "9    노원   85722   88629   92442   98589   96246   90428   89620   88372   \n",
      "10   도봉   57871   57609   59472   61856   58027   56850   53738   53912   \n",
      "11  동대문   86980   87013   95201  102427   97319   92430   89971   89332   \n",
      "12   동작   66651   67295   73890   76714   71189   68460   68870   66963   \n",
      "13   마포   91183   96636  106508  113155  110374  108067  107729  108969   \n",
      "14   방배   26491   26924   28007   30791   28520   28111   28432   27825   \n",
      "15  서대문   59713   61379   66157   72645   68579   68122   65081   63091   \n",
      "16   서부   38341   37665   41029   41508   39534   36920   34389   34569   \n",
      "17   서초   70909   69831   74971   80681   78323   77311   79702   78796   \n",
      "18   성동   53805   55628   58278   60935   58252   54597   54525   56414   \n",
      "19   성북   40030   41048   42307   45755   42291   42736   42654   43418   \n",
      "20   송파  117128  118676  125523  132362  134780  125015  124214  124469   \n",
      "21   수서   63995   64128   69382   73940   72007   70695   72839   71536   \n",
      "22   양천   74938   76102   79796   82096   79155   76584   74245   73149   \n",
      "23  영등포  107938  108750  112083  124018  118640  113566  109398  110523   \n",
      "24   용산   66991   69345   72470   76645   73050   70451   73034   77073   \n",
      "25   은평   49452   51999   55462   58358   56627   55393   54069   54459   \n",
      "26   종로   39845   39915   42962   45784   42253   40802   39703   40286   \n",
      "27   종암   40648   40569   41402   43969   39796   36641   34924   33140   \n",
      "28   중랑   87333   90160   93437   98792   92500   84880   84987   86068   \n",
      "29   중부   44687   46206   47970   49049   45983   42750   40648   41651   \n",
      "30   혜화   36398   37190   40264   41281   37605   36163   35584   35544   \n",
      "\n",
      "      2019    2020  \n",
      "0   103048   98805  \n",
      "1    90264   89662  \n",
      "2    77238   70906  \n",
      "3   120733  114681  \n",
      "4   120676  113418  \n",
      "5    88402   83897  \n",
      "6    90771   84639  \n",
      "7    62998   60586  \n",
      "8    30637   23098  \n",
      "9    91796   87338  \n",
      "10   55279   52755  \n",
      "11   89334   84159  \n",
      "12   72661   68850  \n",
      "13  113635  100672  \n",
      "14   26958   25101  \n",
      "15   64596   58517  \n",
      "16   36464   35440  \n",
      "17   86865   79585  \n",
      "18   59407   56877  \n",
      "19   43581   39018  \n",
      "20  132081  124680  \n",
      "21   76191   72465  \n",
      "22   74456   70914  \n",
      "23  118897  110595  \n",
      "24   79837   69847  \n",
      "25   56662   53419  \n",
      "26   45709   38328  \n",
      "27   34561   33742  \n",
      "28   90765   86923  \n",
      "29   43147   39055  \n",
      "30   35374   30589  \n"
     ]
    }
   ],
   "source": [
    "print(police)"
   ]
  },
  {
   "cell_type": "code",
   "execution_count": 3,
   "id": "6ec30ee2",
   "metadata": {},
   "outputs": [
    {
     "name": "stdout",
     "output_type": "stream",
     "text": [
      "  경찰서    2011    2012    2013    2014    2015    2016    2017    2018    2019  \\\n",
      "3  강서  100005  101979  112628  121142  116561  111972  113142  113955  120733   \n",
      "\n",
      "     2020  \n",
      "3  114681  \n"
     ]
    }
   ],
   "source": [
    "print(police[3:4])"
   ]
  },
  {
   "cell_type": "code",
   "execution_count": 4,
   "id": "4f941771",
   "metadata": {},
   "outputs": [
    {
     "name": "stdout",
     "output_type": "stream",
     "text": [
      "경찰서         강서\n",
      "2011    100005\n",
      "2012    101979\n",
      "2013    112628\n",
      "2014    121142\n",
      "2015    116561\n",
      "2016    111972\n",
      "2017    113142\n",
      "2018    113955\n",
      "2019    120733\n",
      "2020    114681\n",
      "Name: 3, dtype: object\n"
     ]
    }
   ],
   "source": [
    "police_data = police.iloc[3]\n",
    "print(police_data)"
   ]
  },
  {
   "cell_type": "code",
   "execution_count": 5,
   "id": "f57bfce5",
   "metadata": {},
   "outputs": [],
   "source": [
    "pl = police.iloc[3][1:]"
   ]
  },
  {
   "cell_type": "code",
   "execution_count": 6,
   "id": "67c6b5e8",
   "metadata": {},
   "outputs": [],
   "source": [
    "import matplotlib.pyplot as plt\n",
    "import seaborn as sns \n",
    "import numpy as np"
   ]
  },
  {
   "cell_type": "code",
   "execution_count": 7,
   "id": "f17a5a3a",
   "metadata": {},
   "outputs": [
    {
     "data": {
      "text/plain": [
       "'강서'"
      ]
     },
     "execution_count": 7,
     "metadata": {},
     "output_type": "execute_result"
    }
   ],
   "source": [
    "police_data[0]"
   ]
  },
  {
   "cell_type": "code",
   "execution_count": 8,
   "id": "62ca5eee",
   "metadata": {},
   "outputs": [
    {
     "data": {
      "text/plain": [
       "100005"
      ]
     },
     "execution_count": 8,
     "metadata": {},
     "output_type": "execute_result"
    }
   ],
   "source": [
    "police_data[1]"
   ]
  },
  {
   "cell_type": "code",
   "execution_count": 9,
   "id": "17a02135",
   "metadata": {},
   "outputs": [
    {
     "data": {
      "text/html": [
       "<div>\n",
       "<style scoped>\n",
       "    .dataframe tbody tr th:only-of-type {\n",
       "        vertical-align: middle;\n",
       "    }\n",
       "\n",
       "    .dataframe tbody tr th {\n",
       "        vertical-align: top;\n",
       "    }\n",
       "\n",
       "    .dataframe thead th {\n",
       "        text-align: right;\n",
       "    }\n",
       "</style>\n",
       "<table border=\"1\" class=\"dataframe\">\n",
       "  <thead>\n",
       "    <tr style=\"text-align: right;\">\n",
       "      <th></th>\n",
       "      <th>경찰서</th>\n",
       "      <th>2011</th>\n",
       "      <th>2012</th>\n",
       "      <th>2013</th>\n",
       "      <th>2014</th>\n",
       "      <th>2015</th>\n",
       "      <th>2016</th>\n",
       "      <th>2017</th>\n",
       "      <th>2018</th>\n",
       "      <th>2019</th>\n",
       "      <th>2020</th>\n",
       "    </tr>\n",
       "  </thead>\n",
       "  <tbody>\n",
       "    <tr>\n",
       "      <th>0</th>\n",
       "      <td>강남</td>\n",
       "      <td>97296</td>\n",
       "      <td>98690</td>\n",
       "      <td>100159</td>\n",
       "      <td>103080</td>\n",
       "      <td>99168</td>\n",
       "      <td>96852</td>\n",
       "      <td>98946</td>\n",
       "      <td>96853</td>\n",
       "      <td>103048</td>\n",
       "      <td>98805</td>\n",
       "    </tr>\n",
       "    <tr>\n",
       "      <th>1</th>\n",
       "      <td>강동</td>\n",
       "      <td>84504</td>\n",
       "      <td>87888</td>\n",
       "      <td>95647</td>\n",
       "      <td>98459</td>\n",
       "      <td>94193</td>\n",
       "      <td>87446</td>\n",
       "      <td>89844</td>\n",
       "      <td>86513</td>\n",
       "      <td>90264</td>\n",
       "      <td>89662</td>\n",
       "    </tr>\n",
       "    <tr>\n",
       "      <th>2</th>\n",
       "      <td>강북</td>\n",
       "      <td>76395</td>\n",
       "      <td>77858</td>\n",
       "      <td>80675</td>\n",
       "      <td>86820</td>\n",
       "      <td>79634</td>\n",
       "      <td>76723</td>\n",
       "      <td>74852</td>\n",
       "      <td>74597</td>\n",
       "      <td>77238</td>\n",
       "      <td>70906</td>\n",
       "    </tr>\n",
       "    <tr>\n",
       "      <th>3</th>\n",
       "      <td>강서</td>\n",
       "      <td>100005</td>\n",
       "      <td>101979</td>\n",
       "      <td>112628</td>\n",
       "      <td>121142</td>\n",
       "      <td>116561</td>\n",
       "      <td>111972</td>\n",
       "      <td>113142</td>\n",
       "      <td>113955</td>\n",
       "      <td>120733</td>\n",
       "      <td>114681</td>\n",
       "    </tr>\n",
       "    <tr>\n",
       "      <th>4</th>\n",
       "      <td>관악</td>\n",
       "      <td>97860</td>\n",
       "      <td>100626</td>\n",
       "      <td>112035</td>\n",
       "      <td>120163</td>\n",
       "      <td>113627</td>\n",
       "      <td>108733</td>\n",
       "      <td>107344</td>\n",
       "      <td>112146</td>\n",
       "      <td>120676</td>\n",
       "      <td>113418</td>\n",
       "    </tr>\n",
       "  </tbody>\n",
       "</table>\n",
       "</div>"
      ],
      "text/plain": [
       "  경찰서    2011    2012    2013    2014    2015    2016    2017    2018    2019  \\\n",
       "0  강남   97296   98690  100159  103080   99168   96852   98946   96853  103048   \n",
       "1  강동   84504   87888   95647   98459   94193   87446   89844   86513   90264   \n",
       "2  강북   76395   77858   80675   86820   79634   76723   74852   74597   77238   \n",
       "3  강서  100005  101979  112628  121142  116561  111972  113142  113955  120733   \n",
       "4  관악   97860  100626  112035  120163  113627  108733  107344  112146  120676   \n",
       "\n",
       "     2020  \n",
       "0   98805  \n",
       "1   89662  \n",
       "2   70906  \n",
       "3  114681  \n",
       "4  113418  "
      ]
     },
     "execution_count": 9,
     "metadata": {},
     "output_type": "execute_result"
    }
   ],
   "source": [
    "police.head()"
   ]
  },
  {
   "cell_type": "code",
   "execution_count": 10,
   "id": "620459e3",
   "metadata": {},
   "outputs": [
    {
     "data": {
      "text/plain": [
       "Index(['경찰서', '2011', '2012', '2013', '2014', '2015', '2016', '2017', '2018',\n",
       "       '2019', '2020'],\n",
       "      dtype='object')"
      ]
     },
     "execution_count": 10,
     "metadata": {},
     "output_type": "execute_result"
    }
   ],
   "source": [
    "police.columns"
   ]
  },
  {
   "cell_type": "code",
   "execution_count": 11,
   "id": "aeb6fa7f",
   "metadata": {},
   "outputs": [
    {
     "data": {
      "text/plain": [
       "'2011'"
      ]
     },
     "execution_count": 11,
     "metadata": {},
     "output_type": "execute_result"
    }
   ],
   "source": [
    "police.columns[1]"
   ]
  },
  {
   "cell_type": "code",
   "execution_count": 12,
   "id": "bb8b81c5",
   "metadata": {},
   "outputs": [
    {
     "data": {
      "text/plain": [
       "Index(['2011', '2012', '2013', '2014', '2015', '2016', '2017', '2018', '2019',\n",
       "       '2020'],\n",
       "      dtype='object')"
      ]
     },
     "execution_count": 12,
     "metadata": {},
     "output_type": "execute_result"
    }
   ],
   "source": [
    "police.columns[1:]"
   ]
  },
  {
   "cell_type": "code",
   "execution_count": 13,
   "id": "e5f7a0b2",
   "metadata": {},
   "outputs": [],
   "source": [
    "pc = police.columns[1:]"
   ]
  },
  {
   "cell_type": "code",
   "execution_count": null,
   "id": "91d5da88",
   "metadata": {},
   "outputs": [],
   "source": []
  },
  {
   "cell_type": "code",
   "execution_count": null,
   "id": "131c26c5",
   "metadata": {},
   "outputs": [],
   "source": []
  },
  {
   "cell_type": "code",
   "execution_count": 28,
   "id": "5de36555",
   "metadata": {},
   "outputs": [
    {
     "name": "stderr",
     "output_type": "stream",
     "text": [
      "C:\\Users\\Administrator\\AppData\\Roaming\\Python\\Python39\\site-packages\\seaborn\\_decorators.py:36: FutureWarning: Pass the following variables as keyword args: x, y. From version 0.12, the only valid positional argument will be `data`, and passing other arguments without an explicit keyword will result in an error or misinterpretation.\n",
      "  warnings.warn(\n"
     ]
    },
    {
     "data": {
      "image/png": "[encoded data removed]",
      "text/plain": [
       "<Figure size 432x288 with 1 Axes>"
      ]
     },
     "metadata": {},
     "output_type": "display_data"
    }
   ],
   "source": [
    "# plt.figure(figsize=(12,5))\n",
    "sns.set_style('ticks')\n",
    "plt.rc('font', family='Malgun Gothic')\n",
    "sns.barplot(pc, pl)\n",
    "#sns.barplot(data = pl, x = pc, y = pl)\n",
    "plt.title('강서 경찰서 112 신고 출동 현황')\n",
    "plt.xlabel('연도 별')\n",
    "plt.ylabel('출동 수')\n",
    "plt.show()"
   ]
  },
  {
   "cell_type": "code",
   "execution_count": null,
   "id": "6794f158",
   "metadata": {},
   "outputs": [],
   "source": []
  },
  {
   "cell_type": "code",
   "execution_count": null,
   "id": "5f426c9e",
   "metadata": {},
   "outputs": [],
   "source": []
  }
 ],
 "metadata": {
  "kernelspec": {
   "display_name": "Python 3 (ipykernel)",
   "language": "python",
   "name": "python3"
  },
  "language_info": {
   "codemirror_mode": {
    "name": "ipython",
    "version": 3
   },
   "file_extension": ".py",
   "mimetype": "text/x-python",
   "name": "python",
   "nbconvert_exporter": "python",
   "pygments_lexer": "ipython3",
   "version": "3.9.7"
  }
 },
 "nbformat": 4,
 "nbformat_minor": 5
}
